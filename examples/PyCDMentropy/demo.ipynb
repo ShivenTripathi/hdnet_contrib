{
  "nbformat": 4,
  "nbformat_minor": 2,
  "metadata": {
    "interpreter": {
      "hash": "31f2aee4e71d21fbe5cf8b01ff0e069b9275f58929596ceb00d14d90e3e16cd6"
    },
    "kernelspec": {
      "name": "python3",
      "display_name": "Python 3.6.9 64-bit"
    },
    "language_info": {
      "codemirror_mode": {
        "name": "ipython",
        "version": 3
      },
      "file_extension": ".py",
      "mimetype": "text/x-python",
      "name": "python",
      "nbconvert_exporter": "python",
      "pygments_lexer": "ipython3",
      "version": "3.6.9"
    },
    "orig_nbformat": 4,
    "colab": {
      "name": "demo.ipynb",
      "provenance": []
    }
  },
  "cells": [
    {
      "cell_type": "code",
      "execution_count": 109,
      "source": [
        "import hdnet\n",
        "import numpy as np\n",
        "import scipy.io as spio\n",
        "import matplotlib.pyplot as plt"
      ],
      "outputs": [],
      "metadata": {
        "id": "HpE96kqLMvyl"
      }
    },
    {
      "cell_type": "code",
      "execution_count": 110,
      "source": [
        "Js = spio.loadmat('data/exp2/Jexp2.mat')\n",
        "Js = Js['Js']\n",
        "thetas = spio.loadmat('data/exp2/Theta_exp2.mat')\n",
        "thetas = thetas['Thetas']"
      ],
      "outputs": [],
      "metadata": {
        "id": "dzEplGa5Mvym"
      }
    },
    {
      "cell_type": "code",
      "execution_count": 181,
      "source": [
        "NEURONS=15\n",
        "NUM_SAMPLES=2*10**3\n",
        "BURN_IN=5*10**2"
      ],
      "outputs": [],
      "metadata": {}
    },
    {
      "cell_type": "code",
      "execution_count": 182,
      "source": [
        "true_spikes = hdnet.spikes.Spikes(spikes=hdnet.sampling.sample_from_ising_gibbs(J=Js[0,:NEURONS,:NEURONS], theta=thetas[0,:NEURONS], \n",
        "num_samples = NUM_SAMPLES,burn_in=BURN_IN, sampling_steps=500))\n",
        "print(true_spikes._spikes.shape)"
      ],
      "outputs": [
        {
          "output_type": "stream",
          "name": "stdout",
          "text": [
            "(1, 15, 2000)\n"
          ]
        }
      ],
      "metadata": {
        "id": "JtWppENVMvyn"
      }
    },
    {
      "cell_type": "code",
      "execution_count": 183,
      "source": [
        "print(true_spikes.get_frequencies())"
      ],
      "outputs": [
        {
          "output_type": "stream",
          "name": "stdout",
          "text": [
            "Counter({'000000000000000': 664, '000010000000000': 321, '000000000000010': 190, '000010000000010': 95, '100000000000000': 64, '000000000001000': 55, '001010000000010': 49, '001000000000010': 47, '000000010000000': 43, '010000000000000': 32, '100000000000010': 28, '001010000000000': 28, '100010000000000': 26, '000000000001010': 25, '000010100000000': 20, '001000000000000': 18, '010000000000010': 17, '000000010000010': 16, '000001000000000': 13, '000000100000000': 13, '000010000001000': 12, '000010010000000': 11, '000010000001010': 10, '001000100000010': 9, '000001000000010': 8, '010010000000000': 8, '100010000000010': 8, '001010100000000': 8, '001010100000010': 7, '000000000000100': 7, '010010010000000': 7, '010000010000000': 7, '001010000001000': 6, '001010000001010': 6, '010010000000010': 6, '101000000000010': 5, '010000010000010': 4, '001000100000000': 4, '000000010001010': 4, '000011000000000': 4, '100000000001000': 4, '011010000000010': 3, '000000010001000': 3, '001000010000000': 3, '000011000000010': 3, '000010000000100': 3, '000000110000000': 3, '100000000001010': 3, '001000000001010': 3, '001000010000010': 3, '110000000000000': 3, '010001000000010': 2, '000010010001000': 2, '010000000001010': 2, '000011100000000': 2, '000010110000000': 2, '000010100000010': 2, '010001000000000': 2, '000000100000010': 2, '000001100000000': 2, '001010000000110': 2, '010000000001000': 2, '011000000000010': 1, '100010000001000': 1, '100000100001000': 1, '000000010000100': 1, '100001000000010': 1, '000010000000110': 1, '001010100001010': 1, '000001100001000': 1, '001000000001000': 1, '000001000001010': 1, '100010000001010': 1, '100001000001000': 1, '010010000001010': 1, '010011010000000': 1, '001010000000100': 1, '001010010000000': 1, '000010100001000': 1, '001001000000010': 1, '011000000000000': 1, '001010010000010': 1, '000010100001010': 1, '001011000000010': 1, '000000100001000': 1, '010000010001000': 1, '101010000001010': 1, '001000000000110': 1, '001000100001010': 1, '011000010000010': 1, '000010010000010': 1, '000001110000000': 1, '010010000000100': 1, '100011000001000': 1, '010000000000110': 1, '001010110000010': 1, '101000000000000': 1, '000001010000000': 1, '010000110000000': 1, '000000000000110': 1, '100000010000000': 1})\n"
          ]
        }
      ],
      "metadata": {}
    },
    {
      "cell_type": "code",
      "execution_count": 184,
      "source": [
        "# Last Neuron is constant 0\n",
        "print(np.sum(true_spikes._spikes[0][14:15, :]))"
      ],
      "outputs": [
        {
          "output_type": "stream",
          "name": "stdout",
          "text": [
            "0.0\n"
          ]
        }
      ],
      "metadata": {}
    },
    {
      "cell_type": "code",
      "execution_count": 189,
      "source": [
        "matrix_spikes = true_spikes._spikes[0].T\n",
        "print(np.shape(matrix_spikes))\n",
        "print(type(matrix_spikes))\n",
        "from oct2py import octave\n",
        "source = \"/home/shiven/Desktop/GSoC-INCF/cdme/CDMentropy\"\n",
        "octave.addpath(octave.genpath(source))\n",
        "octave.addpath(octave.genpath(source+'/lib/PYMentropy'))\n",
        "nn,ocnts=octave.words2nnOcnts(matrix_spikes,nout=2)\n",
        "m = np.shape(matrix_spikes)[0]\n",
        "opts = octave.struct('isDBer',True,'verbose',True,'nMC',999)\n",
        "print(octave.computeH_CDM(nn, ocnts, m, opts))"
      ],
      "outputs": [
        {
          "output_type": "stream",
          "name": "stdout",
          "text": [
            "(2000, 15)\n",
            "<class 'numpy.ndarray'>\n",
            "warning: Using words2multiplicities (slower). Consider compiling discreteTimeSeries2Words for faster processing.\n",
            "DBer mode: 0.000534\n",
            "4.044259244975469\n"
          ]
        }
      ],
      "metadata": {}
    },
    {
      "cell_type": "code",
      "execution_count": 200,
      "source": [
        "print(true_spikes._spikes[0][0:13, 10])\n",
        "print(np.shape(true_spikes._spikes[0][0:13, 10]))\n",
        "print(true_spikes._spikes[0][14:15, 20])\n",
        "print(np.shape(true_spikes._spikes[0][14:15, 20]))\n",
        "print(np.append(true_spikes._spikes[0][0:13, 10],true_spikes._spikes[0][14:15, 20]))"
      ],
      "outputs": [
        {
          "output_type": "stream",
          "name": "stdout",
          "text": [
            "[0. 0. 1. 0. 1. 0. 0. 0. 0. 0. 0. 1. 0.]\n",
            "(13,)\n",
            "[0.]\n",
            "(1,)\n",
            "[0. 0. 1. 0. 1. 0. 0. 0. 0. 0. 0. 1. 0. 0.]\n"
          ]
        }
      ],
      "metadata": {}
    },
    {
      "cell_type": "code",
      "execution_count": 246,
      "source": [
        "class CDMentropy:\n",
        "    \"\"\"\n",
        "    Calculates entropy and corresponding mutual information for spiketrain data appended with stimulus\n",
        "    \"\"\"\n",
        "    def __init__(self, source, spikes, isDBer=True, verbose=False, nMC=999):\n",
        "        \"\"\"\n",
        "        Initialises oct2py interface for CDMentropy MATLAB code\n",
        "\n",
        "        Parameters\n",
        "        ----------\n",
        "        source : string\n",
        "            path to CDMentropy MATLAB codebase\n",
        "        spikes : HDNet Spikes object\n",
        "        isDBer : bool\n",
        "        verbose : bool\n",
        "        nMC : int\n",
        "        \"\"\"\n",
        "        octave.addpath(octave.genpath(source))\n",
        "        octave.addpath(octave.genpath(source+'/lib/PYMentropy'))\n",
        "        self.opts=octave.struct('isDBer',isDBer,'verbose',verbose,'nMC',nMC)\n",
        "        self.spikes=spikes\n",
        "\n",
        "    def _entropyCDM(self,matrix_spikes):\n",
        "        \"\"\"\n",
        "        Parameters\n",
        "        ----------\n",
        "        matrix_spikes : 2d array\n",
        "            M*N array of spiketrain\n",
        "\n",
        "        Returns\n",
        "        -------\n",
        "\n",
        "        \"\"\"\n",
        "        print(np.shape(matrix_spikes))\n",
        "        nn,ocnts=octave.words2nnOcnts(matrix_spikes,nout=2)\n",
        "        m = np.shape(matrix_spikes)[0]\n",
        "        return octave.computeH_CDM(nn, ocnts, m, self.opts) \n",
        "\n",
        "    def entropyCDM(self, trial, time_start, neuron_start, time_end=None,neuron_end=None):\n",
        "        \"\"\"\n",
        "        Returns entropy calculated upon spiketrain, specifying time bins to consider and neurons to include in calculation\n",
        "\n",
        "        Parameters\n",
        "        ----------\n",
        "        trial : int\n",
        "            trial number to calculate on from spikes\n",
        "        time_start : int\n",
        "            start of range of timebins included in calculation (included in range)\n",
        "        time_end : int\n",
        "            end of range of timebins included in calculation (excluded in range)\n",
        "        neuron_start : int\n",
        "            start of range of neurons included in calculation (included in range)\n",
        "        neuron_end : int\n",
        "            end of range of neurons included in calculation (excluded in range)\n",
        "\n",
        "        Returns\n",
        "        -------\n",
        "        \"\"\"\n",
        "        if time_end is None:\n",
        "            time_end=time_start+1\n",
        "        if neuron_end is None:\n",
        "            neuron_end=neuron_start+1\n",
        "        return self._entropyCDM(self.spikes._spikes[trial][neuron_start:neuron_end,time_start:time_end].T)\n",
        "\n",
        "    def mutualInformation(self, trial, neuron_start, neuron_end, stimulus_start, stimulus_end, time, tau):\n",
        "        \"\"\"\n",
        "        Parameters\n",
        "        ----------\n",
        "        trial : int\n",
        "            trial number to calculate on from spikes\n",
        "        neuron_start : int\n",
        "            start of range of neurons included in calculation (included in range)\n",
        "        neuron_end : int\n",
        "            end of range of neurons included in calculation (excluded in range)\n",
        "        stimulus_start : int\n",
        "            start of range of neurons in spikes denoting binary stimulus (included in range)\n",
        "        stimulus_end : int\n",
        "            end of range of neurons in spikes denoting binary stimulus (excluded in range)\n",
        "        time : int\n",
        "            timestep for which neuron spikes considered\n",
        "        tau : int\n",
        "            shift in time from which stimulus considered\n",
        "\n",
        "        Returns\n",
        "        -------\n",
        "        \"\"\"\n",
        "        HX_t = self._entropyCDM(self.spikes._spikes[trial][neuron_start:neuron_end, time:time+1])\n",
        "        HR_t_tau = self._entropyCDM(self.spikes._spikes[trial][stimulus_start:stimulus_end, time+tau:time+tau+1])\n",
        "        H_R_t_tau_X_t = self._entropyCDM(np.atleast_2d(np.append(self.spikes._spikes[trial][neuron_start:neuron_end, time:time+1], \n",
        "        self.spikes._spikes[trial][stimulus_start:stimulus_end, time+tau:time+tau+1])).T)\n",
        "        return HX_t+HR_t_tau-H_R_t_tau_X_t \n",
        "\n",
        "    def mutualInformationWindowed(self, trial, neuron_time_start, neuron_start, stimulus_start, stimulus_time_start, neuron_time_end=None, \n",
        "    neuron_end=None, stimulus_end=None, stimulus_time_end=None):\n",
        "        \"\"\"\n",
        "        WIP\n",
        "\n",
        "        Returns mutualInformation between neuron responses and stimulus appended to spikes for timebins in a range using CDM Entropy\n",
        "\n",
        "        Parameters\n",
        "        ----------\n",
        "        trial : int\n",
        "            trial number to calculate on from spikes\n",
        "        neuron_time_start : int\n",
        "            start of range of timebins included in calculation (included in range)\n",
        "        neuron_time_end : int\n",
        "            end of range of timebins included in calculation (excluded in range)\n",
        "        neuron_start : int\n",
        "            start of range of neurons included in calculation (included in range)\n",
        "        neuron_end : int\n",
        "            end of range of neurons included in calculation (excluded in range)\n",
        "        stimulus_start : int\n",
        "            start of range of neurons in spikes denoting binary stimulus (included in range)\n",
        "        stimulus_end : int\n",
        "            end of range of neurons in spikes denoting binary stimulus (excluded in range)\n",
        "        stimulus_time_start : int\n",
        "        stimulus_time_end : int\n",
        "\n",
        "        Returns\n",
        "        -------\n",
        "        \"\"\"\n",
        "        if stimulus_end is None:\n",
        "            stimulus_end = np.shape(self.spikes._spikes[trial])[0]\n",
        "        HR = self._entropyCDM(self.spikes._spikes[trial][neuron_start:neuron_end,neuron_time_start:neuron_time_end])\n",
        "        HX = self._entropyCDM(self.spikes._spikes[trial][stimulus_start:stimulus_end,stimulus_time_start:stimulus_time_end])\n",
        "        temp_concat_spikes = np.atleast_2d(np.append(self.spikes._spikes[trial][neuron_start:neuron_end, neuron_time_start:neuron_time_end], \n",
        "        self.spikes._spikes[trial][stimulus_start:stimulus_end, stimulus_time_start:stimulus_time_end])).T\n",
        "        HRX = self._entropyCDM(temp_concat_spikes)\n",
        "        return HR+HX-HRX"
      ],
      "outputs": [],
      "metadata": {}
    },
    {
      "cell_type": "code",
      "execution_count": 247,
      "source": [
        "cdme = CDMentropy(source='/home/shiven/Desktop/GSoC-INCF/cdme/CDMentropy', spikes=true_spikes)\n",
        "\n",
        "Htot = cdme.entropyCDM(trial = 0, time_start = 0, neuron_start = 0, time_end = NUM_SAMPLES, neuron_end = NEURONS)\n",
        "print(\"H total\",Htot)\n",
        "\n",
        "Hr = cdme.entropyCDM(trial = 0, time_start = 0, neuron_start = 14, time_end = NUM_SAMPLES, neuron_end = NEURONS)\n",
        "print(\"H stimulus\",Hr)\n",
        "\n",
        "Hx = cdme.entropyCDM(trial = 0, time_start = 0, neuron_start = 0, time_end = NUM_SAMPLES, neuron_end = 13)\n",
        "print(\"H neuron\", Hx)\n",
        "\n",
        "print(\"first 2 MI\", Hr+Hx)\n",
        "\n",
        "I_hack = cdme.mutualInformation(trial = 0, neuron_start = 0, neuron_end = 13, stimulus_start= 14, stimulus_end= 15, time = 10, tau = 20)\n",
        "print(\"MI, one time\", I_hack)\n",
        "\n",
        "I = cdme.mutualInformationWindowed(trial = 0, neuron_time_start = 10, neuron_start = 0, stimulus_start = 14, stimulus_time_start = 30, \n",
        "neuron_time_end = 11, neuron_end = 13, stimulus_end = 15, stimulus_time_end=31)\n",
        "print(\"MI\",I)"
      ],
      "outputs": [
        {
          "output_type": "stream",
          "name": "stdout",
          "text": [
            "(2000, 15)\n",
            "warning: Using words2multiplicities (slower). Consider compiling discreteTimeSeries2Words for faster processing.\n",
            "H total 4.044259244975469\n",
            "(2000, 1)\n",
            "warning: Using words2multiplicities (slower). Consider compiling discreteTimeSeries2Words for faster processing.\n",
            "warning: This is a crazy constant neuron\n",
            "H stimulus 0.0\n",
            "(2000, 13)\n",
            "warning: Using words2multiplicities (slower). Consider compiling discreteTimeSeries2Words for faster processing.\n",
            "H neuron 3.235971203986079\n",
            "first 2 MI 3.235971203986079\n",
            "(13, 1)\n",
            "warning: Using words2multiplicities (slower). Consider compiling discreteTimeSeries2Words for faster processing.\n",
            "(1, 1)\n",
            "warning: Using words2multiplicities (slower). Consider compiling discreteTimeSeries2Words for faster processing.\n",
            "warning: This is a crazy constant neuron\n",
            "(14, 1)\n",
            "warning: Using words2multiplicities (slower). Consider compiling discreteTimeSeries2Words for faster processing.\n",
            "MI, one time 0.039810471871732145\n",
            "(13, 1)\n",
            "warning: Using words2multiplicities (slower). Consider compiling discreteTimeSeries2Words for faster processing.\n",
            "(1, 1)\n",
            "warning: Using words2multiplicities (slower). Consider compiling discreteTimeSeries2Words for faster processing.\n",
            "warning: This is a crazy constant neuron\n",
            "(14, 1)\n",
            "warning: Using words2multiplicities (slower). Consider compiling discreteTimeSeries2Words for faster processing.\n",
            "MI 0.039810471871732145\n"
          ]
        }
      ],
      "metadata": {}
    },
    {
      "cell_type": "code",
      "execution_count": 107,
      "source": [
        "y=[]\n",
        "x=[]\n",
        "for i in range(NEURONS):\n",
        "    y.append(cdme.entropy_CDM(true_spikes,0,neuron_start=0,neuron_end=i+1))\n",
        "    x.append(i)\n",
        "plt.plot(x,y)\n",
        "# print(x)\n",
        "# print(s)"
      ],
      "outputs": [
        {
          "output_type": "stream",
          "name": "stdout",
          "text": [
            "warning: Using words2multiplicities (slower). Consider compiling discreteTimeSeries2Words for faster processing.\n",
            "warning: Using words2multiplicities (slower). Consider compiling discreteTimeSeries2Words for faster processing.\n",
            "warning: Using words2multiplicities (slower). Consider compiling discreteTimeSeries2Words for faster processing.\n",
            "warning: Using words2multiplicities (slower). Consider compiling discreteTimeSeries2Words for faster processing.\n",
            "warning: Using words2multiplicities (slower). Consider compiling discreteTimeSeries2Words for faster processing.\n",
            "warning: Using words2multiplicities (slower). Consider compiling discreteTimeSeries2Words for faster processing.\n",
            "warning: Using words2multiplicities (slower). Consider compiling discreteTimeSeries2Words for faster processing.\n",
            "warning: Using words2multiplicities (slower). Consider compiling discreteTimeSeries2Words for faster processing.\n",
            "warning: Using words2multiplicities (slower). Consider compiling discreteTimeSeries2Words for faster processing.\n",
            "warning: Using words2multiplicities (slower). Consider compiling discreteTimeSeries2Words for faster processing.\n",
            "warning: Using words2multiplicities (slower). Consider compiling discreteTimeSeries2Words for faster processing.\n",
            "warning: Using words2multiplicities (slower). Consider compiling discreteTimeSeries2Words for faster processing.\n",
            "warning: Using words2multiplicities (slower). Consider compiling discreteTimeSeries2Words for faster processing.\n",
            "warning: Using words2multiplicities (slower). Consider compiling discreteTimeSeries2Words for faster processing.\n",
            "warning: Using words2multiplicities (slower). Consider compiling discreteTimeSeries2Words for faster processing.\n"
          ]
        },
        {
          "output_type": "execute_result",
          "data": {
            "text/plain": [
              "[<matplotlib.lines.Line2D at 0x7fa698f29390>]"
            ]
          },
          "metadata": {},
          "execution_count": 107
        },
        {
          "output_type": "display_data",
          "data": {
            "text/plain": [
              "<Figure size 432x288 with 1 Axes>"
            ],
            "image/png": "[encoded data removed]"
          },
          "metadata": {
            "needs_background": "light"
          }
        }
      ],
      "metadata": {}
    },
    {
      "cell_type": "code",
      "execution_count": 108,
      "source": [
        "x=[]\n",
        "y=[]\n",
        "from tqdm import tqdm\n",
        "for i in tqdm(range(1,NUM_SAMPLES,50)):\n",
        "    x.append(i)\n",
        "    y.append(cdme.entropy_CDM(true_spikes,0,0,i))\n",
        "plt.plot(x,y)"
      ],
      "outputs": [
        {
          "output_type": "stream",
          "name": "stderr",
          "text": [
            "  0%|          | 0/20 [00:00<?, ?it/s]"
          ]
        },
        {
          "output_type": "stream",
          "name": "stdout",
          "text": [
            "warning: Using words2multiplicities (slower). Consider compiling discreteTimeSeries2Words for faster processing.\n",
            "warning: This is a crazy constant neuron\n",
            "warning: Using words2multiplicities (slower). Consider compiling discreteTimeSeries2Words for faster processing.\n"
          ]
        },
        {
          "output_type": "stream",
          "name": "stderr",
          "text": [
            " 10%|█         | 2/20 [00:00<00:02,  7.87it/s]"
          ]
        },
        {
          "output_type": "stream",
          "name": "stdout",
          "text": [
            "warning: Using words2multiplicities (slower). Consider compiling discreteTimeSeries2Words for faster processing.\n"
          ]
        },
        {
          "output_type": "stream",
          "name": "stderr",
          "text": [
            " 15%|█▌        | 3/20 [00:00<00:02,  7.57it/s]"
          ]
        },
        {
          "output_type": "stream",
          "name": "stdout",
          "text": [
            "warning: Using words2multiplicities (slower). Consider compiling discreteTimeSeries2Words for faster processing.\n"
          ]
        },
        {
          "output_type": "stream",
          "name": "stderr",
          "text": [
            " 20%|██        | 4/20 [00:00<00:02,  7.23it/s]"
          ]
        },
        {
          "output_type": "stream",
          "name": "stdout",
          "text": [
            "warning: Using words2multiplicities (slower). Consider compiling discreteTimeSeries2Words for faster processing.\n"
          ]
        },
        {
          "output_type": "stream",
          "name": "stderr",
          "text": [
            " 25%|██▌       | 5/20 [00:00<00:02,  6.73it/s]"
          ]
        },
        {
          "output_type": "stream",
          "name": "stdout",
          "text": [
            "warning: Using words2multiplicities (slower). Consider compiling discreteTimeSeries2Words for faster processing.\n"
          ]
        },
        {
          "output_type": "stream",
          "name": "stderr",
          "text": [
            " 30%|███       | 6/20 [00:00<00:02,  6.21it/s]"
          ]
        },
        {
          "output_type": "stream",
          "name": "stdout",
          "text": [
            "warning: Using words2multiplicities (slower). Consider compiling discreteTimeSeries2Words for faster processing.\n"
          ]
        },
        {
          "output_type": "stream",
          "name": "stderr",
          "text": [
            " 35%|███▌      | 7/20 [00:01<00:02,  6.19it/s]"
          ]
        },
        {
          "output_type": "stream",
          "name": "stdout",
          "text": [
            "warning: Using words2multiplicities (slower). Consider compiling discreteTimeSeries2Words for faster processing.\n"
          ]
        },
        {
          "output_type": "stream",
          "name": "stderr",
          "text": [
            " 40%|████      | 8/20 [00:01<00:02,  5.80it/s]"
          ]
        },
        {
          "output_type": "stream",
          "name": "stdout",
          "text": [
            "warning: Using words2multiplicities (slower). Consider compiling discreteTimeSeries2Words for faster processing.\n"
          ]
        },
        {
          "output_type": "stream",
          "name": "stderr",
          "text": [
            " 45%|████▌     | 9/20 [00:01<00:02,  5.40it/s]"
          ]
        },
        {
          "output_type": "stream",
          "name": "stdout",
          "text": [
            "warning: Using words2multiplicities (slower). Consider compiling discreteTimeSeries2Words for faster processing.\n"
          ]
        },
        {
          "output_type": "stream",
          "name": "stderr",
          "text": [
            " 50%|█████     | 10/20 [00:01<00:01,  5.46it/s]"
          ]
        },
        {
          "output_type": "stream",
          "name": "stdout",
          "text": [
            "warning: Using words2multiplicities (slower). Consider compiling discreteTimeSeries2Words for faster processing.\n"
          ]
        },
        {
          "output_type": "stream",
          "name": "stderr",
          "text": [
            " 55%|█████▌    | 11/20 [00:01<00:01,  5.25it/s]"
          ]
        },
        {
          "output_type": "stream",
          "name": "stdout",
          "text": [
            "warning: Using words2multiplicities (slower). Consider compiling discreteTimeSeries2Words for faster processing.\n"
          ]
        },
        {
          "output_type": "stream",
          "name": "stderr",
          "text": [
            " 60%|██████    | 12/20 [00:02<00:01,  5.14it/s]"
          ]
        },
        {
          "output_type": "stream",
          "name": "stdout",
          "text": [
            "warning: Using words2multiplicities (slower). Consider compiling discreteTimeSeries2Words for faster processing.\n"
          ]
        },
        {
          "output_type": "stream",
          "name": "stderr",
          "text": [
            " 65%|██████▌   | 13/20 [00:02<00:01,  5.06it/s]"
          ]
        },
        {
          "output_type": "stream",
          "name": "stdout",
          "text": [
            "warning: Using words2multiplicities (slower). Consider compiling discreteTimeSeries2Words for faster processing.\n"
          ]
        },
        {
          "output_type": "stream",
          "name": "stderr",
          "text": [
            " 70%|███████   | 14/20 [00:02<00:01,  5.18it/s]"
          ]
        },
        {
          "output_type": "stream",
          "name": "stdout",
          "text": [
            "warning: Using words2multiplicities (slower). Consider compiling discreteTimeSeries2Words for faster processing.\n"
          ]
        },
        {
          "output_type": "stream",
          "name": "stderr",
          "text": [
            " 75%|███████▌  | 15/20 [00:02<00:01,  4.89it/s]"
          ]
        },
        {
          "output_type": "stream",
          "name": "stdout",
          "text": [
            "warning: Using words2multiplicities (slower). Consider compiling discreteTimeSeries2Words for faster processing.\n"
          ]
        },
        {
          "output_type": "stream",
          "name": "stderr",
          "text": [
            " 80%|████████  | 16/20 [00:02<00:00,  4.51it/s]"
          ]
        },
        {
          "output_type": "stream",
          "name": "stdout",
          "text": [
            "warning: Using words2multiplicities (slower). Consider compiling discreteTimeSeries2Words for faster processing.\n"
          ]
        },
        {
          "output_type": "stream",
          "name": "stderr",
          "text": [
            " 85%|████████▌ | 17/20 [00:03<00:00,  4.60it/s]"
          ]
        },
        {
          "output_type": "stream",
          "name": "stdout",
          "text": [
            "warning: Using words2multiplicities (slower). Consider compiling discreteTimeSeries2Words for faster processing.\n"
          ]
        },
        {
          "output_type": "stream",
          "name": "stderr",
          "text": [
            " 90%|█████████ | 18/20 [00:03<00:00,  3.82it/s]"
          ]
        },
        {
          "output_type": "stream",
          "name": "stdout",
          "text": [
            "warning: Using words2multiplicities (slower). Consider compiling discreteTimeSeries2Words for faster processing.\n"
          ]
        },
        {
          "output_type": "stream",
          "name": "stderr",
          "text": [
            " 95%|█████████▌| 19/20 [00:03<00:00,  3.99it/s]"
          ]
        },
        {
          "output_type": "stream",
          "name": "stdout",
          "text": [
            "warning: Using words2multiplicities (slower). Consider compiling discreteTimeSeries2Words for faster processing.\n"
          ]
        },
        {
          "output_type": "stream",
          "name": "stderr",
          "text": [
            "100%|██████████| 20/20 [00:04<00:00,  4.91it/s]\n"
          ]
        },
        {
          "output_type": "execute_result",
          "data": {
            "text/plain": [
              "[<matplotlib.lines.Line2D at 0x7fa698e8e5c0>]"
            ]
          },
          "metadata": {},
          "execution_count": 108
        },
        {
          "output_type": "display_data",
          "data": {
            "text/plain": [
              "<Figure size 432x288 with 1 Axes>"
            ],
            "image/png": "[encoded data removed]"
          },
          "metadata": {
            "needs_background": "light"
          }
        }
      ],
      "metadata": {}
    }
  ]
}